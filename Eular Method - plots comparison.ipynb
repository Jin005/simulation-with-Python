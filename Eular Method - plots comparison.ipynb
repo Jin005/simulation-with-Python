{
 "cells": [
  {
   "cell_type": "markdown",
   "metadata": {},
   "source": [
    "# The Forward Eular Method"
   ]
  },
  {
   "cell_type": "markdown",
   "metadata": {},
   "source": [
    "Assume we have an ODE such as\n",
    "\n",
    " $\n",
    "    dN/dt = rN(t)$                                                                                               \n"
   ]
  },
  {
   "cell_type": "markdown",
   "metadata": {},
   "source": [
    "this describe an exponential growth, r is growth-rate constant and t is time. We can solve it numerically at a given time step $ \\Delta t $, starting at value N, and update the new value of N at $ t + \\Delta t $, the mathematic phrase is:"
   ]
  },
  {
   "cell_type": "markdown",
   "metadata": {},
   "source": [
    "$$ N(t + \\Delta t) = N(t) + rN(t)\\Delta t $$"
   ]
  },
  {
   "cell_type": "markdown",
   "metadata": {},
   "source": [
    "The initial value $ N = 10 $ and $ r = 1$, and we take time step $ \\Delta t = 0.1 $"
   ]
  },
  {
   "cell_type": "markdown",
   "metadata": {},
   "source": [
    "So the change of N is $ \\Delta N = rN \\Delta t = 1 $"
   ]
  },
  {
   "cell_type": "markdown",
   "metadata": {},
   "source": [
    "Now we know compute the new value of N at time $ t + \\Delta t $ as  $$ N(t + \\Delta t) = N(t) + \\Delta N = 10 + 1 = 11$$"
   ]
  },
  {
   "cell_type": "markdown",
   "metadata": {},
   "source": [
    "Then we can repeate the step to go forward. We have to be aware of a major point that this process involves error as we have to choose a sufficiently small step of time so that at most 1 computable event must occur. For instance, if we are integrating exponential growth of bacteria, we don't want to take time steps larger than a cell divison. The requirement is called the **Courant-Friedrichs-Lewy condition**."
   ]
  },
  {
   "cell_type": "markdown",
   "metadata": {},
   "source": [
    "## <font color = grey > Numerically integrating exponential growth </font>"
   ]
  },
  {
   "cell_type": "code",
   "execution_count": 2,
   "metadata": {},
   "outputs": [],
   "source": [
    "import numpy as np\n",
    "import matplotlib.pyplot as plt\n",
    "%matplotlib inline"
   ]
  },
  {
   "cell_type": "code",
   "execution_count": 3,
   "metadata": {},
   "outputs": [],
   "source": [
    "# To make pretty plots\n",
    "import seaborn as sns\n",
    "rc = {'lines.linewidth': 2, 'axes.labelsize':14, 'axes.titlesize':14, 'xtick.labelsize':14, 'ytick.labelsize': 14}\n",
    "sns.set(rc = rc)"
   ]
  },
  {
   "cell_type": "markdown",
   "metadata": {},
   "source": [
    "To numerically integrate $ dN/dt = rN(t) $, we need to specify parameters involved, i.e. $ N_0, r $  and $ \\Delta t$."
   ]
  },
  {
   "cell_type": "code",
   "execution_count": 4,
   "metadata": {},
   "outputs": [],
   "source": [
    "# set parameters for ODE\n",
    "N_0 = 1\n",
    "r = 0.03 # unit is min^-1\n",
    "\n",
    "# set parameters for integration\n",
    "dt = 0.1  # unit min\n",
    "total_time = 120 # min"
   ]
  },
  {
   "cell_type": "markdown",
   "metadata": {},
   "source": [
    "In order to save all N as it increase with time, we set up an array with the first value in N_t array being set to N_0 as specific number as set above."
   ]
  },
  {
   "cell_type": "code",
   "execution_count": 5,
   "metadata": {},
   "outputs": [],
   "source": [
    "# determine the number of steps that will be taken\n",
    "num_steps = int(total_time/dt)"
   ]
  },
  {
   "cell_type": "code",
   "execution_count": 6,
   "metadata": {},
   "outputs": [],
   "source": [
    "# initialize an array with length of num_steps to store values of N. This array should be occupied with 0s.\n",
    "N_t = np.zeros(num_steps)\n",
    "# set the initial N_0 as the first value in this array\n",
    "N_t[0] = N_0"
   ]
  },
  {
   "cell_type": "markdown",
   "metadata": {},
   "source": [
    "Now it is time to compute the numerial integraion, by looping through the N_t array and filling in the computed N as we go. At each time point: $ N(t) = N(t- \\Delta t) + dN $, where $ dN $ is $ rN(t- \\Delta t)\\Delta t $, and $ t - \\Delta t$ is the previous time point."
   ]
  },
  {
   "cell_type": "code",
   "execution_count": 7,
   "metadata": {},
   "outputs": [],
   "source": [
    "# numerically integrate by looping through N_t\n",
    "for t in range(1, num_steps):\n",
    "    \n",
    "    # 1st, calculate dN using the t-1 time point entry of N_t.\n",
    "    dN = r * N_t[t-1] * dt\n",
    "    \n",
    "    # update the current N_t array\n",
    "    N_t[t] = N_t[t-1] + dN"
   ]
  },
  {
   "cell_type": "markdown",
   "metadata": {},
   "source": [
    "Now we know N_t, if we want to plot N_t over t, so we need to define the t values as array as one of the axis. We already know how many time points we want which is num_steps, but we still need to make them as time series."
   ]
  },
  {
   "cell_type": "code",
   "execution_count": 8,
   "metadata": {},
   "outputs": [],
   "source": [
    "# make array of time values\n",
    "times = np.arange(num_steps)*dt"
   ]
  },
  {
   "cell_type": "code",
   "execution_count": 9,
   "metadata": {},
   "outputs": [
    {
     "data": {
      "text/plain": [
       "Text(0, 0.5, 'N')"
      ]
     },
     "execution_count": 9,
     "metadata": {},
     "output_type": "execute_result"
    },
    {
     "data": {
      "image/png": "[encoded data removed]",
      "text/plain": [
       "<Figure size 432x288 with 1 Axes>"
      ]
     },
     "metadata": {},
     "output_type": "display_data"
    }
   ],
   "source": [
    "# Ready to plot N_t over t.\n",
    "plt.plot(times, N_t)\n",
    "plt.xlabel('time (mins)')\n",
    "plt.ylabel('N')"
   ]
  },
  {
   "cell_type": "markdown",
   "metadata": {},
   "source": [
    "### <font color='grey'>Comparison with the numerical solution - $ N(t) = N_0 e^{rt} $ </font> "
   ]
  },
  {
   "cell_type": "markdown",
   "metadata": {},
   "source": [
    "We can plot the known solution of $N(t) = N_0e^{rt} $ on top of numerical integration above."
   ]
  },
  {
   "cell_type": "code",
   "execution_count": 18,
   "metadata": {},
   "outputs": [],
   "source": [
    "# compute the know solution\n",
    "solution = N_0 * np.exp(r*times)\n"
   ]
  },
  {
   "cell_type": "code",
   "execution_count": 20,
   "metadata": {},
   "outputs": [
    {
     "data": {
      "text/plain": [
       "<matplotlib.legend.Legend at 0x1a19407250>"
      ]
     },
     "execution_count": 20,
     "metadata": {},
     "output_type": "execute_result"
    },
    {
     "data": {
      "image/png": "[encoded data removed]",
      "text/plain": [
       "<Figure size 432x288 with 1 Axes>"
      ]
     },
     "metadata": {},
     "output_type": "display_data"
    }
   ],
   "source": [
    " \n",
    "plt.plot(times, N_t) # plot both integration\n",
    "plt.plot(times, solution) # plot the known solution\n",
    "plt.xlabel('time (mins)')\n",
    "plt.ylabel('N')\n",
    "plt.legend(['numerical integration', 'known solution'])"
   ]
  },
  {
   "cell_type": "markdown",
   "metadata": {},
   "source": [
    "It is clear that our numerical integratoin and the known solution are so similar that two lines are overlapping.\n",
    "A sufficiently small $ \\Delta t $ is essential for numerical integration to work. When dt increase, the numerical integration will deviate more and more from the known solution. The reason is in exponential growth, the rate of growth is always increaseing so if we take too large time step, we will fail to capture the constant increase."
   ]
  },
  {
   "cell_type": "code",
   "execution_count": null,
   "metadata": {},
   "outputs": [],
   "source": []
  }
 ],
 "metadata": {
  "kernelspec": {
   "display_name": "Python 3",
   "language": "python",
   "name": "python3"
  },
  "language_info": {
   "codemirror_mode": {
    "name": "ipython",
    "version": 3
   },
   "file_extension": ".py",
   "mimetype": "text/x-python",
   "name": "python",
   "nbconvert_exporter": "python",
   "pygments_lexer": "ipython3",
   "version": "3.7.6"
  }
 },
 "nbformat": 4,
 "nbformat_minor": 4
}
